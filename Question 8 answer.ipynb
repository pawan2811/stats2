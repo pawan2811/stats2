{
 "cells": [
  {
   "cell_type": "code",
   "execution_count": 1,
   "id": "ca7bd7f3-6605-49b9-8432-0e65dd01e9ef",
   "metadata": {},
   "outputs": [],
   "source": [
    "import numpy as np"
   ]
  },
  {
   "cell_type": "markdown",
   "id": "0af6d3ab-e61c-4e5f-bbd3-b822a6aecf96",
   "metadata": {},
   "source": [
    "8. Question: You have two sets of data representing the incomes of two different professions1\r\n",
    "V Profession A: [48, 52, 55, 60, 62'\r\n",
    "V Profession B: [45, 50, 55, 52, 47] Perform an F-test to determine if the variances of the two professions'\r\n",
    "incomes are equal. What are your conclusions based on the F-test?\r\n",
    "\r\n",
    "Task: Use Python to calculate the F-statistic and p-value for the given data.\r\n",
    "\r\n",
    "Objective: Gain experience in performing F-tests and interpreting the results in terms of variance comparison.value."
   ]
  },
  {
   "cell_type": "code",
   "execution_count": 4,
   "id": "c21ec21d-c889-494c-be4c-646dbf1a5ec2",
   "metadata": {},
   "outputs": [],
   "source": [
    "# ho : s1^2 = s2^2\n",
    "# ha : s1^2 != s2^2"
   ]
  },
  {
   "cell_type": "code",
   "execution_count": 6,
   "id": "bc83b2a3-97f8-4f80-a97d-05577ef0f565",
   "metadata": {},
   "outputs": [],
   "source": [
    "pro_B = [42,50,55,52,47]\n",
    "pro_A = [48,52,55,60,62]"
   ]
  },
  {
   "cell_type": "code",
   "execution_count": 8,
   "id": "78e72051-bb6b-4926-90b7-1b69370be9be",
   "metadata": {},
   "outputs": [],
   "source": [
    "var_A = np.var(pro_A)\n",
    "var_B = np.var(pro_B)"
   ]
  },
  {
   "cell_type": "code",
   "execution_count": 10,
   "id": "a5f67224-5c93-42fc-80c1-146c2ae0c6a2",
   "metadata": {},
   "outputs": [
    {
     "data": {
      "text/plain": [
       "26.24"
      ]
     },
     "execution_count": 10,
     "metadata": {},
     "output_type": "execute_result"
    }
   ],
   "source": [
    "var_A"
   ]
  },
  {
   "cell_type": "code",
   "execution_count": 12,
   "id": "d4d4136d-01c2-44ba-acc2-e39069f6c839",
   "metadata": {},
   "outputs": [
    {
     "data": {
      "text/plain": [
       "19.76"
      ]
     },
     "execution_count": 12,
     "metadata": {},
     "output_type": "execute_result"
    }
   ],
   "source": [
    "var_B"
   ]
  },
  {
   "cell_type": "code",
   "execution_count": 14,
   "id": "d62fce13-b26a-47fd-a1c5-7e203566a897",
   "metadata": {},
   "outputs": [],
   "source": [
    "f_test = var_A/var_B"
   ]
  },
  {
   "cell_type": "code",
   "execution_count": 16,
   "id": "71eeb3c6-54cc-4238-8aa6-6b2d055873e3",
   "metadata": {},
   "outputs": [
    {
     "data": {
      "text/plain": [
       "1.3279352226720647"
      ]
     },
     "execution_count": 16,
     "metadata": {},
     "output_type": "execute_result"
    }
   ],
   "source": [
    "f_test"
   ]
  },
  {
   "cell_type": "code",
   "execution_count": 18,
   "id": "e58f9f35-156c-4936-9f07-6f3c8f676872",
   "metadata": {},
   "outputs": [],
   "source": [
    "dfnum = len(pro_A) - 1\n",
    "dfdin = len(pro_B) - 1"
   ]
  },
  {
   "cell_type": "code",
   "execution_count": 33,
   "id": "29023ff9-586a-46a6-9765-a0bfd9b7a59c",
   "metadata": {},
   "outputs": [],
   "source": [
    "f_critical = 6.388"
   ]
  },
  {
   "cell_type": "code",
   "execution_count": 37,
   "id": "5b40054c-33ef-49f7-be32-a90ad4751a33",
   "metadata": {},
   "outputs": [
    {
     "name": "stdout",
     "output_type": "stream",
     "text": [
      "failed to reject null hypothesis\n"
     ]
    }
   ],
   "source": [
    "if f_critical < f_test:\n",
    "    print(\"reject null hypothesis\")\n",
    "else:\n",
    "    print(\"failed to reject null hypothesis\")"
   ]
  },
  {
   "cell_type": "markdown",
   "id": "78332b50-32be-41c4-afda-3b0694d6ddc0",
   "metadata": {},
   "source": [
    "conclusion: the two profession income are equal"
   ]
  },
  {
   "cell_type": "code",
   "execution_count": null,
   "id": "023e2c63-6802-49a0-90da-e1fa36a70bde",
   "metadata": {},
   "outputs": [],
   "source": []
  }
 ],
 "metadata": {
  "kernelspec": {
   "display_name": "Python 3 (ipykernel)",
   "language": "python",
   "name": "python3"
  },
  "language_info": {
   "codemirror_mode": {
    "name": "ipython",
    "version": 3
   },
   "file_extension": ".py",
   "mimetype": "text/x-python",
   "name": "python",
   "nbconvert_exporter": "python",
   "pygments_lexer": "ipython3",
   "version": "3.12.4"
  }
 },
 "nbformat": 4,
 "nbformat_minor": 5
}
